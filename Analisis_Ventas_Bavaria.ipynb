{
 "cells": [
  {
   "cell_type": "code",
   "execution_count": null,
   "metadata": {
    "colab": {
     "base_uri": "https://localhost:8080/"
    },
    "executionInfo": {
     "elapsed": 36201,
     "status": "ok",
     "timestamp": 1751824182075,
     "user": {
      "displayName": "Angie Mesa",
      "userId": "00426721720741952028"
     },
     "user_tz": 300
    },
    "id": "Gy3XTRj4iSUd",
    "outputId": "7c043f0f-f30b-4996-9a82-cff06c6202cd"
   },
   "outputs": [
    {
     "name": "stderr",
     "output_type": "stream",
     "text": [
      "ERROR: Ignored the following versions that require a different python version: 4.0.0 Requires-Python >=3.7, <3.11; 4.1.0 Requires-Python >=3.7, <3.12; 4.1.1 Requires-Python >=3.7, <3.12; 4.1.2 Requires-Python >=3.7, <3.12; 4.10.0 Requires-Python <3.13,>=3.7; 4.11.0 Requires-Python <3.13,>=3.7; 4.12.0 Requires-Python <3.13,>=3.7; 4.12.1 Requires-Python <3.13,>=3.7; 4.12.2 Requires-Python <3.13,>=3.7; 4.13.0 Requires-Python <3.13,>=3.7; 4.14.0 Requires-Python <3.13,>=3.7; 4.15.0 Requires-Python <3.13,>=3.7; 4.15.1 Requires-Python <3.13,>=3.7; 4.16.0 Requires-Python <3.13,>=3.7; 4.16.1 Requires-Python <3.13,>=3.7; 4.2.0 Requires-Python >=3.7, <3.12; 4.3.0 Requires-Python >=3.7, <3.12; 4.3.1 Requires-Python >=3.7, <3.12; 4.3.2 Requires-Python >=3.7, <3.12; 4.4.0 Requires-Python >=3.7, <3.12; 4.5.0 Requires-Python >=3.7, <3.12; 4.5.1 Requires-Python >=3.7, <3.12; 4.6.0 Requires-Python >=3.7, <3.12; 4.6.1 Requires-Python >=3.7, <3.12; 4.6.2 Requires-Python >=3.7, <3.12; 4.6.3 Requires-Python >=3.7, <3.12; 4.6.4 Requires-Python >=3.7, <3.12; 4.6.5 Requires-Python >=3.7, <3.12; 4.7.0 Requires-Python >=3.7, <3.13; 4.8.3 Requires-Python <3.13,>=3.7; 4.9.0 Requires-Python <3.13,>=3.7\n",
      "ERROR: Could not find a version that satisfies the requirement ydata_profiling (from versions: none)\n",
      "ERROR: No matching distribution found for ydata_profiling\n"
     ]
    }
   ],
   "source": [
    "!pip install sweetviz\n",
    "!pip install plotly\n",
    "!pip install ydata_profiling\n",
    "!pip install catboost"
   ]
  },
  {
   "cell_type": "code",
   "execution_count": 1,
   "metadata": {
    "colab": {
     "base_uri": "https://localhost:8080/",
     "height": 64
    },
    "executionInfo": {
     "elapsed": 11125,
     "status": "ok",
     "timestamp": 1751824193226,
     "user": {
      "displayName": "Angie Mesa",
      "userId": "00426721720741952028"
     },
     "user_tz": 300
    },
    "id": "1pz0bmzUys2S",
    "outputId": "f0758a7a-6222-4e0d-d512-11306c6fd629"
   },
   "outputs": [
    {
     "name": "stderr",
     "output_type": "stream",
     "text": [
      "c:\\Users\\David Peña\\AppData\\Local\\Programs\\Python\\Python313\\Lib\\site-packages\\tqdm\\auto.py:21: TqdmWarning: IProgress not found. Please update jupyter and ipywidgets. See https://ipywidgets.readthedocs.io/en/stable/user_install.html\n",
      "  from .autonotebook import tqdm as notebook_tqdm\n",
      "c:\\Users\\David Peña\\AppData\\Local\\Programs\\Python\\Python313\\Lib\\site-packages\\sweetviz\\graph.py:8: UserWarning: pkg_resources is deprecated as an API. See https://setuptools.pypa.io/en/latest/pkg_resources.html. The pkg_resources package is slated for removal as early as 2025-11-30. Refrain from using this package or pin to Setuptools<81.\n",
      "  from pkg_resources import resource_filename\n"
     ]
    },
    {
     "ename": "ModuleNotFoundError",
     "evalue": "No module named 'ydata_profiling'",
     "output_type": "error",
     "traceback": [
      "\u001b[31m---------------------------------------------------------------------------\u001b[39m",
      "\u001b[31mModuleNotFoundError\u001b[39m                       Traceback (most recent call last)",
      "\u001b[36mCell\u001b[39m\u001b[36m \u001b[39m\u001b[32mIn[1]\u001b[39m\u001b[32m, line 6\u001b[39m\n\u001b[32m      4\u001b[39m \u001b[38;5;28;01mimport\u001b[39;00m\u001b[38;5;250m \u001b[39m\u001b[34;01mnumpy\u001b[39;00m\u001b[38;5;250m \u001b[39m\u001b[38;5;28;01mas\u001b[39;00m\u001b[38;5;250m \u001b[39m\u001b[34;01mnp\u001b[39;00m\n\u001b[32m      5\u001b[39m \u001b[38;5;28;01mimport\u001b[39;00m\u001b[38;5;250m \u001b[39m\u001b[34;01msweetviz\u001b[39;00m\u001b[38;5;250m \u001b[39m\u001b[38;5;28;01mas\u001b[39;00m\u001b[38;5;250m \u001b[39m\u001b[34;01msv\u001b[39;00m\n\u001b[32m----> \u001b[39m\u001b[32m6\u001b[39m \u001b[38;5;28;01mfrom\u001b[39;00m\u001b[38;5;250m \u001b[39m\u001b[34;01mydata_profiling\u001b[39;00m\u001b[38;5;250m \u001b[39m\u001b[38;5;28;01mimport\u001b[39;00m ProfileReport\n\u001b[32m      7\u001b[39m \u001b[38;5;28;01mimport\u001b[39;00m\u001b[38;5;250m \u001b[39m\u001b[34;01mmatplotlib\u001b[39;00m\u001b[34;01m.\u001b[39;00m\u001b[34;01mpyplot\u001b[39;00m\u001b[38;5;250m \u001b[39m\u001b[38;5;28;01mas\u001b[39;00m\u001b[38;5;250m \u001b[39m\u001b[34;01mplt\u001b[39;00m\n\u001b[32m      8\u001b[39m \u001b[38;5;28;01mimport\u001b[39;00m\u001b[38;5;250m \u001b[39m\u001b[34;01mseaborn\u001b[39;00m\u001b[38;5;250m \u001b[39m\u001b[38;5;28;01mas\u001b[39;00m\u001b[38;5;250m \u001b[39m\u001b[34;01msns\u001b[39;00m\n",
      "\u001b[31mModuleNotFoundError\u001b[39m: No module named 'ydata_profiling'"
     ]
    }
   ],
   "source": [
    "# Importar librerías\n",
    "## EDA\n",
    "import pandas as pd\n",
    "import numpy as np\n",
    "import sweetviz as sv\n",
    "from ydata_profiling import ProfileReport\n",
    "import matplotlib.pyplot as plt\n",
    "import seaborn as sns\n",
    "import plotly.express as px\n",
    "\n",
    "## Modelamiento\n",
    "from sklearn.model_selection import train_test_split, RandomizedSearchCV\n",
    "from sklearn.preprocessing import MinMaxScaler, OneHotEncoder\n",
    "from sklearn.compose import ColumnTransformer\n",
    "from sklearn.pipeline import Pipeline\n",
    "from sklearn.linear_model import LogisticRegression\n",
    "from sklearn.metrics import classification_report, confusion_matrix, roc_curve, auc\n",
    "from catboost import CatBoostClassifier\n",
    "from scipy.stats import randint, uniform"
   ]
  },
  {
   "cell_type": "markdown",
   "metadata": {
    "id": "TDXv0IwrHfia"
   },
   "source": [
    "# a. Análisis Exploratorio"
   ]
  },
  {
   "cell_type": "code",
   "execution_count": null,
   "metadata": {
    "executionInfo": {
     "elapsed": 11275,
     "status": "ok",
     "timestamp": 1751824250037,
     "user": {
      "displayName": "Angie Mesa",
      "userId": "00426721720741952028"
     },
     "user_tz": 300
    },
    "id": "VYGszgEhzFCL"
   },
   "outputs": [],
   "source": [
    "# Cargar datos\n",
    "clientes = pd.read_excel('/content/drive/MyDrive/DSA/clientes_final.xlsx')\n",
    "ventas = pd.read_excel('/content/drive/MyDrive/DSA/venta_final.xlsx')"
   ]
  },
  {
   "cell_type": "markdown",
   "metadata": {
    "id": "adkxrCt5LY_3"
   },
   "source": [
    "## Variables"
   ]
  },
  {
   "cell_type": "code",
   "execution_count": null,
   "metadata": {
    "colab": {
     "base_uri": "https://localhost:8080/"
    },
    "executionInfo": {
     "elapsed": 298,
     "status": "ok",
     "timestamp": 1724891610814,
     "user": {
      "displayName": "Angie Mesa",
      "userId": "00426721720741952028"
     },
     "user_tz": 300
    },
    "id": "KJa0Zy8X0Aaa",
    "outputId": "6b54c5d0-e76c-4187-eddb-e6842483b293"
   },
   "outputs": [],
   "source": [
    "# Exploración inicial\n",
    "print(\"\\nClientes DataFrame Info:\")\n",
    "print(clientes.info())\n",
    "\n",
    "print(\"\\nVentas DataFrame Info:\")\n",
    "print(ventas.info())\n",
    "\n",
    "# Estadísticas descriptivas\n",
    "print(\"\\nEstadísticas descriptivas - Clientes:\")\n",
    "print(clientes.describe())\n",
    "\n",
    "print(\"\\nEstadísticas descriptivas - Ventas:\")"
   ]
  },
  {
   "cell_type": "code",
   "execution_count": null,
   "metadata": {
    "colab": {
     "base_uri": "https://localhost:8080/"
    },
    "executionInfo": {
     "elapsed": 216,
     "status": "ok",
     "timestamp": 1724972175051,
     "user": {
      "displayName": "Angie Mesa",
      "userId": "00426721720741952028"
     },
     "user_tz": 300
    },
    "id": "PC4sR01fWbzv",
    "outputId": "90abb751-b750-4cae-d299-5328dc5d169e"
   },
   "outputs": [],
   "source": [
    "print(ventas.drop_duplicates().shape)\n",
    "print(clientes.drop_duplicates().shape)"
   ]
  },
  {
   "cell_type": "markdown",
   "metadata": {
    "id": "hGhNWkJPWGir"
   },
   "source": [
    "Se asume que los registros deben ser únicos en cada base, por lo tanto, que tanto en la base de clientes como en la de ventas solo existe un registro por cliente y por venta (con la misma información)"
   ]
  },
  {
   "cell_type": "code",
   "execution_count": null,
   "metadata": {
    "id": "IzZzCowH0jxt"
   },
   "outputs": [],
   "source": [
    "ventas.drop_duplicates(inplace=True)\n",
    "clientes.drop_duplicates(inplace=True)"
   ]
  },
  {
   "cell_type": "markdown",
   "metadata": {
    "id": "A1HP9DaWLd3k"
   },
   "source": [
    "## Clientes"
   ]
  },
  {
   "cell_type": "code",
   "execution_count": null,
   "metadata": {
    "id": "idSBUVY-_LUZ"
   },
   "outputs": [],
   "source": [
    "ventas['porc_desc'] = abs(ventas['desc'])/(abs(ventas['desc'])+ ventas['nr'])\n",
    "ventas['porc_desc_sin_0'] = np.where(ventas['porc_desc'] == 0, np.nan, ventas['porc_desc'])"
   ]
  },
  {
   "cell_type": "code",
   "execution_count": null,
   "metadata": {
    "id": "V-kCHHzDk61q"
   },
   "outputs": [],
   "source": [
    "ventas['vol_cat'] = np.where((ventas['vol'] > 1)&(ventas['vol'] <= 1.5), '(1-1.5]',\n",
    "                           np.where((ventas['vol'] > 1.5)&(ventas['vol'] <= 2.5), '(1.5-2.5]',\n",
    "                                    np.where((ventas['vol'] > 2.5)&(ventas['vol'] <= 9.5), '(2.5-9.5]', '>9.5')))\n",
    "ventas['nr_cat'] = np.where((ventas['nr'] == 0), '0',\n",
    "                           np.where((ventas['nr'] > 0)&(ventas['nr'] <= 2600000), '(0-2.6M]',\n",
    "                                    np.where((ventas['nr'] > 2600000)&(ventas['nr'] <= 3500000), '(2.6M-3.5M]',\n",
    "                                             np.where((ventas['nr'] > 3500000)&(ventas['nr'] <= 34000000), '(3.5M-34M]', '>34M'))))\n",
    "ventas['porc_desc_cat'] = np.where((ventas['porc_desc'] == 0), '0%',\n",
    "                                 np.where((ventas['porc_desc'] > 0)&(ventas['porc_desc'] <= 0.2), '(0%-20%]',\n",
    "                                          np.where((ventas['porc_desc'] > 0.2)&(ventas['porc_desc'] <= 0.4), '(20%-40%]',\n",
    "                                                   np.where((ventas['porc_desc'] > 0.4)&(ventas['porc_desc'] <= 0.6), '(40%-60%]',\n",
    "                                                            np.where((ventas['porc_desc'] > 0.6)&(ventas['porc_desc'] <= 0.8), '(60%-80%]',\n",
    "                                                                     np.where((ventas['porc_desc'] > 0.8)&(ventas['porc_desc'] <= 1), '(80%-100%]', 'No_Aplica'))))))"
   ]
  },
  {
   "cell_type": "code",
   "execution_count": null,
   "metadata": {
    "id": "ZdX9qyG8LpPs"
   },
   "outputs": [],
   "source": [
    "abt = pd.merge(ventas, clientes, on='Cliente', how='left')"
   ]
  },
  {
   "cell_type": "code",
   "execution_count": null,
   "metadata": {
    "colab": {
     "base_uri": "https://localhost:8080/",
     "height": 445
    },
    "executionInfo": {
     "elapsed": 259,
     "status": "ok",
     "timestamp": 1724992176325,
     "user": {
      "displayName": "Angie Mesa",
      "userId": "00426721720741952028"
     },
     "user_tz": 300
    },
    "id": "r-4O4jL0L3mR",
    "outputId": "58e19ed8-0f44-4a9b-bf6f-b4c2d5bd281e"
   },
   "outputs": [],
   "source": [
    "pd.set_option('display.float_format', lambda x: '%.4f' % x)\n",
    "abt.groupby(['Gerencia', 'subcanal']).agg({'Cliente': 'nunique',\n",
    "                                           'porc_desc': ['min', 'max', 'mean'],\n",
    "                                           'nr': ['min', 'max', 'mean', 'sum'],\n",
    "                                           'vol': ['min', 'max', 'mean', 'sum']})"
   ]
  },
  {
   "cell_type": "markdown",
   "metadata": {
    "id": "pTkNWQDLLsPY"
   },
   "source": [
    "## Insights"
   ]
  },
  {
   "cell_type": "code",
   "execution_count": null,
   "metadata": {
    "colab": {
     "base_uri": "https://localhost:8080/",
     "height": 87,
     "referenced_widgets": [
      "ef713de255ba49a18583c904a44d3ff2",
      "126e1d768c574d2eba5cfbea7cb71c3b",
      "20377747b2dc4f0594b48554250faa17",
      "60b66662fc074763b4410c1b1c526e82",
      "be0edaf15fee4272ba854facfd3b76a3",
      "1e553d25e9a54114b3e9cf3fec0620c8",
      "f7e045e7623f4e4ab1f6110050e6fe89",
      "3ac321e60644482fb4c26a17f7952363",
      "96e26c17ffd34735bb82bdb7e4f86c1a",
      "4bd90c6dbc14417494a0f9e34a1198d2",
      "97f179cbf0d3403c8da3d1c30e7a64fb"
     ]
    },
    "executionInfo": {
     "elapsed": 21809,
     "status": "ok",
     "timestamp": 1724972223970,
     "user": {
      "displayName": "Angie Mesa",
      "userId": "00426721720741952028"
     },
     "user_tz": 300
    },
    "id": "BTQWh81jjWM8",
    "outputId": "2899431c-68a0-403c-dba0-97ace609e3d3"
   },
   "outputs": [],
   "source": [
    "report =  sv.analyze(abt)\n",
    "report.show_html('EDA_Fuentes.html')"
   ]
  },
  {
   "cell_type": "code",
   "execution_count": null,
   "metadata": {
    "colab": {
     "base_uri": "https://localhost:8080/",
     "height": 201,
     "referenced_widgets": [
      "b1b64ef7f8164941990c5def79cab5fc",
      "fdd4a72180b44a5daec9da9b5a3b4946",
      "10f4bb6551824db692a74d3e06088e69",
      "b75611ac780341b7b1594f012151990c",
      "0bed8b4385684b98b5bbd1cae4029752",
      "170a0f5245fa469f858633d70f331e67",
      "83f413bc19ea40f9afb5824b8ea2375f",
      "d3154d25adbb4c16a59c6c1da95b220b",
      "1b95a332aa0e4c818201fd0482008fcd",
      "0223ecb00835482cb9baf150649a733e",
      "b38d40db810547e3a83d14ce5608aa7d",
      "1cd283f12f0141b999bd14f519a9fb7a",
      "123438de41fb4c8cab78a580d35800b0",
      "f355b8af30db458995772b260833ec17",
      "d3179c6f5aac434d87208380784c356a",
      "bb69d86ff58e41a8955ff90d029f6bd3",
      "bce9727941234f5798794d913bae4d11",
      "c4340dcfdf1a403f907af98137f7679c",
      "b6061982905642eb8a7d990c0829497e",
      "231400ef9e6f4123ac1f3ce2a629d924",
      "7716143e68e74221bb377cfd204b6173",
      "73614c95d6224bd899f977e16f81325a",
      "0da3a6813f494fbb8e5b3ec94e70c1c7",
      "5afb18c94ac24a34930b2081111666d3",
      "2ea93a66a8ab4b79b46453329f768426",
      "74adc9ec63404c7e865523e18e128448",
      "92a6c55631be4b37b596b1280e46d142",
      "ea7f9601889547d88adbc798bfd1a148",
      "f5f399f2e4284724a17645c31425123e",
      "ee095dc1ed90448c942ab509d70360e0",
      "51ce25ce2663459c8566afca3d9603f6",
      "68232bea53a344828695b94a5a50114a",
      "dc846830917f4f25abf73396190ed08b",
      "742dbaa1a857431d8f608c90599e0c6e",
      "cf87a03a588c4e8e9aa8b355174d18c6",
      "6b96bcfd67fe4b00973f40357e3054e2",
      "95b8cc7d0e8f473792ebf457b554d106",
      "cbf8b79162304b3d837ca865f2f52d01",
      "4af7284dfe1549bf8302fa8f460ed108",
      "16e780ff30f94a5699e67ed1b25fb142",
      "7d087a2746314adea74b7499d55fec5f",
      "99989400d87d4d268c0006b9f1d239b1",
      "dfe21ee0245d42ca9656f3fb85df5fe3",
      "c126072e33e74071bf927ecab412ff2b"
     ]
    },
    "executionInfo": {
     "elapsed": 15843,
     "status": "ok",
     "timestamp": 1724972239799,
     "user": {
      "displayName": "Angie Mesa",
      "userId": "00426721720741952028"
     },
     "user_tz": 300
    },
    "id": "J42whH60mvu3",
    "outputId": "04999f3a-6f9d-4b4b-b627-d34cc394f8e4"
   },
   "outputs": [],
   "source": [
    "profile = ProfileReport(abt, title=\"EDA Fuentes Clientes & Ventas\", minimal=True)\n",
    "profile.to_file(\"EDA_Fuentes_2.html\")"
   ]
  },
  {
   "cell_type": "code",
   "execution_count": null,
   "metadata": {
    "colab": {
     "base_uri": "https://localhost:8080/",
     "height": 542,
     "output_embedded_package_id": "1iomodHtXmKspUyYRrWT4f1t2vIauUBCN"
    },
    "executionInfo": {
     "elapsed": 3515,
     "status": "ok",
     "timestamp": 1724972243300,
     "user": {
      "displayName": "Angie Mesa",
      "userId": "00426721720741952028"
     },
     "user_tz": 300
    },
    "id": "6gQP49eaJk4x",
    "outputId": "8bf7f6c9-e8f8-42e7-fba2-9ddc5d38421f"
   },
   "outputs": [],
   "source": [
    "# Gráfico de dispersión productos vendidos vs. ganancia\n",
    "fig = px.scatter(abt, x='vol', y='nr', color='porc_desc_cat',\n",
    "                 color_continuous_scale='viridis',\n",
    "                 title='Gráfica de Cantidad de productos vendidos vs. Ganancia, por grupo de descuento',\n",
    "                 labels={'vol': 'Cantidad de productos vendidos',\n",
    "                         'nr': 'Ganancia',\n",
    "                         'porc_desc_cat': 'Porcentaje de descuento'})\n",
    "\n",
    "fig.show()"
   ]
  },
  {
   "cell_type": "code",
   "execution_count": null,
   "metadata": {
    "colab": {
     "base_uri": "https://localhost:8080/",
     "height": 455
    },
    "executionInfo": {
     "elapsed": 225,
     "status": "ok",
     "timestamp": 1724982811991,
     "user": {
      "displayName": "Angie Mesa",
      "userId": "00426721720741952028"
     },
     "user_tz": 300
    },
    "id": "HbsNZSbS-5bk",
    "outputId": "895cd37b-b538-4fb3-9c16-67ea0734caa5"
   },
   "outputs": [],
   "source": [
    "abt.groupby(['Cliente', 'ym']).agg({'brand': 'count'}) #Hay más de un registro por cliente y mes"
   ]
  },
  {
   "cell_type": "code",
   "execution_count": null,
   "metadata": {
    "id": "UF-tJ4Wud1Fu"
   },
   "outputs": [],
   "source": [
    "suma_nr = abt.groupby(['brand'])['nr'].sum()\n",
    "suma_vol = abt.groupby(['brand'])['vol'].sum()\n",
    "ganan_x_und = pd.DataFrame({\n",
    "    'suma_nr': suma_nr,\n",
    "    'suma_vol': suma_vol\n",
    " })\n",
    "ganan_x_und['ganancia_x_und'] = ganan_x_und['suma_nr'] / ganan_x_und['suma_vol']"
   ]
  },
  {
   "cell_type": "code",
   "execution_count": null,
   "metadata": {
    "colab": {
     "base_uri": "https://localhost:8080/",
     "height": 363
    },
    "executionInfo": {
     "elapsed": 263,
     "status": "ok",
     "timestamp": 1724992121762,
     "user": {
      "displayName": "Angie Mesa",
      "userId": "00426721720741952028"
     },
     "user_tz": 300
    },
    "id": "TSy8rj1ROhOX",
    "outputId": "c09e81e0-9b30-4ebd-d23d-07439ca1a292"
   },
   "outputs": [],
   "source": [
    "# Proporción de ventas por marca\n",
    "pd.concat([(100*abt.groupby(['brand']).agg({'Cliente': 'count'})/len(abt)).sort_values(by='Cliente'),\n",
    "           (abt.groupby(['brand']).agg({'Cliente': 'count'})),\n",
    "           ganan_x_und['ganancia_x_und']], axis=1)"
   ]
  },
  {
   "cell_type": "code",
   "execution_count": null,
   "metadata": {
    "colab": {
     "base_uri": "https://localhost:8080/",
     "height": 206
    },
    "executionInfo": {
     "elapsed": 280,
     "status": "ok",
     "timestamp": 1724972437784,
     "user": {
      "displayName": "Angie Mesa",
      "userId": "00426721720741952028"
     },
     "user_tz": 300
    },
    "id": "dTUcF7FYPMk_",
    "outputId": "5575b7fd-b8f6-4ab4-c1e5-bcf543f8bcf7"
   },
   "outputs": [],
   "source": [
    "# Proporción de ventas por segmento\n",
    "pd.concat([(100*abt.groupby(['segment']).agg({'Cliente': 'count'})/len(abt)).sort_values(by='Cliente'),\n",
    "           (abt.groupby(['segment']).agg({'Cliente': 'count'})).sort_values(by='Cliente')], axis=1)"
   ]
  },
  {
   "cell_type": "markdown",
   "metadata": {
    "id": "YV0PqSmeHk-o"
   },
   "source": [
    "# b. Modelo de venta - Marca1"
   ]
  },
  {
   "cell_type": "code",
   "execution_count": null,
   "metadata": {
    "colab": {
     "base_uri": "https://localhost:8080/",
     "height": 589
    },
    "executionInfo": {
     "elapsed": 261,
     "status": "ok",
     "timestamp": 1724978444033,
     "user": {
      "displayName": "Angie Mesa",
      "userId": "00426721720741952028"
     },
     "user_tz": 300
    },
    "id": "icV-c3uGQLg1",
    "outputId": "16a587bf-9314-4ca7-d4b3-be610957cd55"
   },
   "outputs": [],
   "source": [
    "# Marca elegida: Marca1\n",
    "abt_final = abt[['Gerencia', 'subcanal', 'desc', 'brand', 'ym', 'Cliente', 'vol']]\n",
    "abt_final['target'] = np.where(abt['brand'] == 'Marca1', 1, 0)\n",
    "abt_final"
   ]
  },
  {
   "cell_type": "code",
   "execution_count": null,
   "metadata": {
    "colab": {
     "base_uri": "https://localhost:8080/"
    },
    "executionInfo": {
     "elapsed": 270,
     "status": "ok",
     "timestamp": 1724978449737,
     "user": {
      "displayName": "Angie Mesa",
      "userId": "00426721720741952028"
     },
     "user_tz": 300
    },
    "id": "_npJqL-WicWC",
    "outputId": "b544da89-3b2a-4893-ce03-f739d90dfab7"
   },
   "outputs": [],
   "source": [
    "# Creación de variable de volumen vendido anteriormente al cliente de esta misma marca\n",
    "abt_final['ym'] = pd.to_datetime(abt_final['ym'], format='%Y%m')\n",
    "df_marca1 = abt_final[abt_final['brand'] == 'Marca1'].copy()\n",
    "df_marca1 = df_marca1.sort_values(by=['Cliente', 'ym'])\n",
    "df_marca1['vol_vendido_antes_m1'] = df_marca1.groupby('Cliente')['vol'].cumsum() - df_marca1['vol']\n",
    "result = abt_final.merge(df_marca1[['Cliente', 'ym', 'vol_vendido_antes_m1']],\n",
    "                         on=['Cliente', 'ym'],\n",
    "                         how='left')\n",
    "result['vol_vendido_antes_m1'] = result['vol_vendido_antes_m1'].fillna(0)\n",
    "\n",
    "# Creación del descuento dado al cliente en los periodos anteriores\n",
    "df_desc = result.loc[result['brand'] == 'Marca1']\n",
    "df_desc['abs_desc'] = abs(df_desc['desc'])\n",
    "df_desc = df_desc.sort_values(by=['Cliente', 'ym'])\n",
    "df_desc['desc_antes_m1'] = df_desc.groupby('Cliente')['abs_desc'].cumsum() - df_desc['abs_desc']\n",
    "result2 = result.merge(df_desc[['Cliente', 'ym', 'desc_antes_m1']],\n",
    "                         on=['Cliente', 'ym'],\n",
    "                         how='left')\n",
    "result2['desc_antes_m1'] = result2['desc_antes_m1'].fillna(0)"
   ]
  },
  {
   "cell_type": "markdown",
   "metadata": {
    "id": "m4HY20_5qpPR"
   },
   "source": [
    "Se agrupan las ventas por cliente y fecha, para modelar si un cliente comprará en un mes la marca 1"
   ]
  },
  {
   "cell_type": "code",
   "execution_count": null,
   "metadata": {
    "colab": {
     "base_uri": "https://localhost:8080/",
     "height": 414
    },
    "executionInfo": {
     "elapsed": 517,
     "status": "ok",
     "timestamp": 1724978663950,
     "user": {
      "displayName": "Angie Mesa",
      "userId": "00426721720741952028"
     },
     "user_tz": 300
    },
    "id": "pBpzYkKKnwUq",
    "outputId": "6766e049-32cb-4953-e2e5-0da1f2ea4392"
   },
   "outputs": [],
   "source": [
    "abt_modelo = result2.groupby(['Cliente', 'ym', 'Gerencia', 'subcanal']).agg({'desc_antes_m1': 'max',\n",
    "                                        'vol_vendido_antes_m1' : 'max',\n",
    "                                        'target' : 'max'}).reset_index(drop=False).drop(columns=['Cliente',\n",
    "                                                                                                 'ym'])\n",
    "abt_modelo.describe(include='all')"
   ]
  },
  {
   "cell_type": "code",
   "execution_count": null,
   "metadata": {
    "id": "aTjaCEa3ru-L"
   },
   "outputs": [],
   "source": [
    "X = abt_modelo[['desc_antes_m1', 'vol_vendido_antes_m1', 'Gerencia', 'subcanal']]\n",
    "y = abt_modelo['target']\n",
    "numeric_features = ['desc_antes_m1', 'vol_vendido_antes_m1']\n",
    "categorical_features = ['Gerencia', 'subcanal']\n",
    "\n",
    "numeric_transformer = MinMaxScaler()\n",
    "categorical_transformer = OneHotEncoder()\n",
    "\n",
    "preprocessor = ColumnTransformer(\n",
    "    transformers=[\n",
    "        ('num', numeric_transformer, numeric_features),\n",
    "        ('cat', categorical_transformer, categorical_features)\n",
    "    ]\n",
    ")\n",
    "\n",
    "X_processed =preprocessor.fit_transform(X)"
   ]
  },
  {
   "cell_type": "markdown",
   "metadata": {
    "id": "EIeT5fTkvnAd"
   },
   "source": [
    "### Regresión Logística"
   ]
  },
  {
   "cell_type": "code",
   "execution_count": null,
   "metadata": {
    "colab": {
     "base_uri": "https://localhost:8080/"
    },
    "executionInfo": {
     "elapsed": 500,
     "status": "ok",
     "timestamp": 1724979618826,
     "user": {
      "displayName": "Angie Mesa",
      "userId": "00426721720741952028"
     },
     "user_tz": 300
    },
    "id": "m1g2_VH1w9B8",
    "outputId": "7252c3d7-c8ba-4635-be25-6d1f09a51d72"
   },
   "outputs": [],
   "source": [
    "X_train, X_test, y_train, y_test = train_test_split(X_processed, y, test_size=0.2, random_state=0)\n",
    "\n",
    "model = LogisticRegression()\n",
    "model.fit(X_train, y_train)\n",
    "y_pred = model.predict(X_test)\n",
    "print(\"Confusion Matrix:\")\n",
    "print(confusion_matrix(y_test, y_pred))\n",
    "print(\"\\nClassification Report:\")\n",
    "print(classification_report(y_test, y_pred))"
   ]
  },
  {
   "cell_type": "code",
   "execution_count": null,
   "metadata": {
    "colab": {
     "base_uri": "https://localhost:8080/",
     "height": 638
    },
    "executionInfo": {
     "elapsed": 2551,
     "status": "ok",
     "timestamp": 1724981145679,
     "user": {
      "displayName": "Angie Mesa",
      "userId": "00426721720741952028"
     },
     "user_tz": 300
    },
    "id": "OadKczQCzYb1",
    "outputId": "3c91c203-dc86-4575-9ded-6ab22a42a50d"
   },
   "outputs": [],
   "source": [
    "# Obtener probabilidades de predicción\n",
    "y_probs = model.predict_proba(X_test)[:, 1]\n",
    "\n",
    "# Definir una serie de umbrales\n",
    "thresholds = np.arange(0.0, 1.1, 0.1)\n",
    "\n",
    "# Inicializar listas para almacenar métricas\n",
    "precisions = []\n",
    "recalls = []\n",
    "f1_scores = []\n",
    "\n",
    "# Evaluar el modelo para cada umbral\n",
    "for threshold in thresholds:\n",
    "    y_pred = (y_probs >= threshold).astype(int)\n",
    "\n",
    "    # Calcular métricas\n",
    "    conf_matrix = confusion_matrix(y_test, y_pred)\n",
    "    tn, fp, fn, tp = conf_matrix.ravel()\n",
    "\n",
    "    precision = tp / (tp + fp) if (tp + fp) > 0 else 0\n",
    "    recall = tp / (tp + fn) if (tp + fn) > 0 else 0\n",
    "    f1_score = 2 * (precision * recall) / (precision + recall) if (precision + recall) > 0 else 0\n",
    "\n",
    "    precisions.append(precision)\n",
    "    recalls.append(recall)\n",
    "    f1_scores.append(f1_score)\n",
    "\n",
    "# Graficar resultados\n",
    "plt.figure(figsize=(5, 3))\n",
    "plt.plot(thresholds, precisions, label='Precision', marker='o')\n",
    "plt.plot(thresholds, recalls, label='Recall', marker='o')\n",
    "plt.plot(thresholds, f1_scores, label='F1 Score', marker='o')\n",
    "plt.xlabel('Threshold')\n",
    "plt.ylabel('Score')\n",
    "plt.title('Threshold Analysis')\n",
    "plt.legend()\n",
    "plt.grid(True)\n",
    "plt.show()\n",
    "\n",
    "# Graficar la curva ROC\n",
    "fpr, tpr, _ = roc_curve(y_test, y_probs)\n",
    "roc_auc = auc(fpr, tpr)\n",
    "\n",
    "plt.figure(figsize=(5, 3))\n",
    "plt.plot(fpr, tpr, color='darkorange', lw=2, label=f'ROC curve (area = {roc_auc:.2f})')\n",
    "plt.plot([0, 1], [0, 1], color='navy', lw=2, linestyle='--')\n",
    "plt.xlim([0.0, 1.0])\n",
    "plt.ylim([0.0, 1.05])\n",
    "plt.xlabel('False Positive Rate')\n",
    "plt.ylabel('True Positive Rate')\n",
    "plt.title('Receiver Operating Characteristic (ROC)')\n",
    "plt.legend(loc='lower right')\n",
    "plt.show()"
   ]
  },
  {
   "cell_type": "code",
   "execution_count": null,
   "metadata": {
    "colab": {
     "base_uri": "https://localhost:8080/"
    },
    "executionInfo": {
     "elapsed": 432,
     "status": "ok",
     "timestamp": 1724980918279,
     "user": {
      "displayName": "Angie Mesa",
      "userId": "00426721720741952028"
     },
     "user_tz": 300
    },
    "id": "PoKnULyZ0Xdj",
    "outputId": "f60dfce8-a1f3-423a-aade-57330a797dd6"
   },
   "outputs": [],
   "source": [
    "for threshold in [0.7, 0.8, 0.9]:\n",
    "  y_probs = model.predict_proba(X_test)[:, 1]\n",
    "  y_pred = (y_probs >= threshold).astype(int)\n",
    "  conf_matrix = confusion_matrix(y_test, y_pred)\n",
    "  print(conf_matrix)\n",
    "  print(classification_report(y_test, y_pred))"
   ]
  },
  {
   "cell_type": "markdown",
   "metadata": {
    "id": "VDt4QHqC4eyA"
   },
   "source": [
    "### Importancia de variables"
   ]
  },
  {
   "cell_type": "code",
   "execution_count": null,
   "metadata": {
    "colab": {
     "base_uri": "https://localhost:8080/"
    },
    "executionInfo": {
     "elapsed": 216,
     "status": "ok",
     "timestamp": 1724981094555,
     "user": {
      "displayName": "Angie Mesa",
      "userId": "00426721720741952028"
     },
     "user_tz": 300
    },
    "id": "TkgyldDm4hWY",
    "outputId": "86921317-8cdd-4232-a7c1-0cf3ed7a24e0"
   },
   "outputs": [],
   "source": [
    "feature_names = (numeric_features +\n",
    "                 list(preprocessor.named_transformers_['cat'].get_feature_names_out(categorical_features)))\n",
    "coef = model.coef_[0]\n",
    "feature_importance = pd.DataFrame({\n",
    "    'Feature': feature_names,\n",
    "    'Coefficient': coef\n",
    "}).sort_values(by='Coefficient', ascending=False)\n",
    "\n",
    "print(\"\\nFeature Importance:\")\n",
    "print(feature_importance)"
   ]
  },
  {
   "cell_type": "markdown",
   "metadata": {
    "id": "rjjx20Wt2hi5"
   },
   "source": [
    "## Catboost"
   ]
  },
  {
   "cell_type": "code",
   "execution_count": null,
   "metadata": {
    "id": "o5eJqSBYQWXx"
   },
   "outputs": [],
   "source": [
    "preprocessor = ColumnTransformer(\n",
    "    transformers=[\n",
    "        ('num', numeric_transformer, numeric_features)\n",
    "    ],\n",
    "    remainder='passthrough'\n",
    ")\n",
    "X_processed = preprocessor.fit_transform(X[numeric_features])\n",
    "X_categorical = X[categorical_features]\n",
    "X_final = np.hstack((X_processed, X_categorical))"
   ]
  },
  {
   "cell_type": "code",
   "execution_count": null,
   "metadata": {
    "colab": {
     "base_uri": "https://localhost:8080/"
    },
    "executionInfo": {
     "elapsed": 24701,
     "status": "ok",
     "timestamp": 1724982547181,
     "user": {
      "displayName": "Angie Mesa",
      "userId": "00426721720741952028"
     },
     "user_tz": 300
    },
    "id": "0MMuY0uG5Oqg",
    "outputId": "c1f1c624-d5b2-428a-b5b5-ca2bad0a56c8"
   },
   "outputs": [],
   "source": [
    "X_train, X_test, y_train, y_test = train_test_split(X_final, y, test_size=0.2, random_state=0)\n",
    "\n",
    "# Ajustar el modelo CatBoost\n",
    "model = CatBoostClassifier(cat_features=[2, 3])\n",
    "model.fit(X_train, y_train, cat_features=[2, 3], verbose=200)\n",
    "\n",
    "# Predicciones y evaluación\n",
    "y_pred = model.predict(X_test)\n",
    "print(\"Confusion Matrix:\")\n",
    "print(confusion_matrix(y_test, y_pred))\n",
    "print(\"\\nClassification Report:\")\n",
    "print(classification_report(y_test, y_pred))"
   ]
  },
  {
   "cell_type": "markdown",
   "metadata": {
    "id": "FlUP7eMV8tPw"
   },
   "source": [
    "### Importancia de variables"
   ]
  },
  {
   "cell_type": "code",
   "execution_count": null,
   "metadata": {
    "colab": {
     "base_uri": "https://localhost:8080/",
     "height": 454
    },
    "executionInfo": {
     "elapsed": 648,
     "status": "ok",
     "timestamp": 1724982600507,
     "user": {
      "displayName": "Angie Mesa",
      "userId": "00426721720741952028"
     },
     "user_tz": 300
    },
    "id": "qxeVgGPz8rFp",
    "outputId": "8f5e138e-9d91-4975-8789-3ab065ca5d8b"
   },
   "outputs": [],
   "source": [
    "feature_importances = model.get_feature_importance()\n",
    "feature_names = (numeric_features +\n",
    "                 list(X_categorical.columns))\n",
    "\n",
    "importance_df = pd.DataFrame({\n",
    "    'Feature': feature_names,\n",
    "    'Importance': feature_importances\n",
    "}).sort_values(by='Importance', ascending=False)\n",
    "\n",
    "print(\"\\nFeature Importance:\")\n",
    "print(importance_df)\n",
    "\n",
    "plt.figure(figsize=(5, 3))\n",
    "sns.barplot(x='Importance', y='Feature', data=importance_df)\n",
    "plt.title('Importancia de las Características')\n",
    "plt.show()"
   ]
  },
  {
   "cell_type": "markdown",
   "metadata": {},
   "source": [
    "## 🎯 Maqueta del Prototipo\n",
    "\n",
    "La presente maqueta representa un prototipo analítico orientado a la visualización y comprensión de los datos de ventas de Bavaria. Este prototipo está diseñado para responder preguntas estratégicas como:\n",
    "\n",
    "- ¿Qué productos generan mayor volumen y rentabilidad?\n",
    "- ¿Qué segmentos presentan mayores descuentos y cómo se comportan?\n",
    "- ¿Cómo se distribuyen las ventas por categoría y región?\n",
    "\n",
    "### Componentes visuales clave:\n",
    "\n",
    "- **Gráfico de dispersión**: Volumen vs. rentabilidad (`plotly.express`) para identificar productos estrella\n",
    "- **Mapas de calor y gráficos de barras**: Tendencias por categorías, precios y promociones\n",
    "- **Perfiles automáticos de datos**: Sweetviz y YData Profiling para análisis exploratorio automático\n",
    "\n",
    "Esta maqueta servirá como base para desarrollar un dashboard más completo e interactivo, o un informe automatizado para el equipo de decisiones de negocio.\n"
   ]
  }
 ],
 "metadata": {
  "colab": {
   "authorship_tag": "ABX9TyM5EJBkSTt6a77dBlqXjG0N",
   "mount_file_id": "1cq-4AKapCRiuheP1As2FOSPIQFewLqdZ",
   "provenance": []
  },
  "kernelspec": {
   "display_name": "Python 3",
   "language": "python",
   "name": "python3"
  },
  "language_info": {
   "codemirror_mode": {
    "name": "ipython",
    "version": 3
   },
   "file_extension": ".py",
   "mimetype": "text/x-python",
   "name": "python",
   "nbconvert_exporter": "python",
   "pygments_lexer": "ipython3",
   "version": "3.12.6"
  },
  "widgets": {
   "application/vnd.jupyter.widget-state+json": {
    "0223ecb00835482cb9baf150649a733e": {
     "model_module": "@jupyter-widgets/base",
     "model_module_version": "1.2.0",
     "model_name": "LayoutModel",
     "state": {
      "_model_module": "@jupyter-widgets/base",
      "_model_module_version": "1.2.0",
      "_model_name": "LayoutModel",
      "_view_count": null,
      "_view_module": "@jupyter-widgets/base",
      "_view_module_version": "1.2.0",
      "_view_name": "LayoutView",
      "align_content": null,
      "align_items": null,
      "align_self": null,
      "border": null,
      "bottom": null,
      "display": null,
      "flex": null,
      "flex_flow": null,
      "grid_area": null,
      "grid_auto_columns": null,
      "grid_auto_flow": null,
      "grid_auto_rows": null,
      "grid_column": null,
      "grid_gap": null,
      "grid_row": null,
      "grid_template_areas": null,
      "grid_template_columns": null,
      "grid_template_rows": null,
      "height": null,
      "justify_content": null,
      "justify_items": null,
      "left": null,
      "margin": null,
      "max_height": null,
      "max_width": null,
      "min_height": null,
      "min_width": null,
      "object_fit": null,
      "object_position": null,
      "order": null,
      "overflow": null,
      "overflow_x": null,
      "overflow_y": null,
      "padding": null,
      "right": null,
      "top": null,
      "visibility": null,
      "width": null
     }
    },
    "0bed8b4385684b98b5bbd1cae4029752": {
     "model_module": "@jupyter-widgets/base",
     "model_module_version": "1.2.0",
     "model_name": "LayoutModel",
     "state": {
      "_model_module": "@jupyter-widgets/base",
      "_model_module_version": "1.2.0",
      "_model_name": "LayoutModel",
      "_view_count": null,
      "_view_module": "@jupyter-widgets/base",
      "_view_module_version": "1.2.0",
      "_view_name": "LayoutView",
      "align_content": null,
      "align_items": null,
      "align_self": null,
      "border": null,
      "bottom": null,
      "display": null,
      "flex": null,
      "flex_flow": null,
      "grid_area": null,
      "grid_auto_columns": null,
      "grid_auto_flow": null,
      "grid_auto_rows": null,
      "grid_column": null,
      "grid_gap": null,
      "grid_row": null,
      "grid_template_areas": null,
      "grid_template_columns": null,
      "grid_template_rows": null,
      "height": null,
      "justify_content": null,
      "justify_items": null,
      "left": null,
      "margin": null,
      "max_height": null,
      "max_width": null,
      "min_height": null,
      "min_width": null,
      "object_fit": null,
      "object_position": null,
      "order": null,
      "overflow": null,
      "overflow_x": null,
      "overflow_y": null,
      "padding": null,
      "right": null,
      "top": null,
      "visibility": null,
      "width": null
     }
    },
    "0da3a6813f494fbb8e5b3ec94e70c1c7": {
     "model_module": "@jupyter-widgets/controls",
     "model_module_version": "1.5.0",
     "model_name": "HBoxModel",
     "state": {
      "_dom_classes": [],
      "_model_module": "@jupyter-widgets/controls",
      "_model_module_version": "1.5.0",
      "_model_name": "HBoxModel",
      "_view_count": null,
      "_view_module": "@jupyter-widgets/controls",
      "_view_module_version": "1.5.0",
      "_view_name": "HBoxView",
      "box_style": "",
      "children": [
       "IPY_MODEL_5afb18c94ac24a34930b2081111666d3",
       "IPY_MODEL_2ea93a66a8ab4b79b46453329f768426",
       "IPY_MODEL_74adc9ec63404c7e865523e18e128448"
      ],
      "layout": "IPY_MODEL_92a6c55631be4b37b596b1280e46d142"
     }
    },
    "10f4bb6551824db692a74d3e06088e69": {
     "model_module": "@jupyter-widgets/controls",
     "model_module_version": "1.5.0",
     "model_name": "FloatProgressModel",
     "state": {
      "_dom_classes": [],
      "_model_module": "@jupyter-widgets/controls",
      "_model_module_version": "1.5.0",
      "_model_name": "FloatProgressModel",
      "_view_count": null,
      "_view_module": "@jupyter-widgets/controls",
      "_view_module_version": "1.5.0",
      "_view_name": "ProgressView",
      "bar_style": "success",
      "description": "",
      "description_tooltip": null,
      "layout": "IPY_MODEL_d3154d25adbb4c16a59c6c1da95b220b",
      "max": 5,
      "min": 0,
      "orientation": "horizontal",
      "style": "IPY_MODEL_1b95a332aa0e4c818201fd0482008fcd",
      "value": 5
     }
    },
    "123438de41fb4c8cab78a580d35800b0": {
     "model_module": "@jupyter-widgets/controls",
     "model_module_version": "1.5.0",
     "model_name": "HTMLModel",
     "state": {
      "_dom_classes": [],
      "_model_module": "@jupyter-widgets/controls",
      "_model_module_version": "1.5.0",
      "_model_name": "HTMLModel",
      "_view_count": null,
      "_view_module": "@jupyter-widgets/controls",
      "_view_module_version": "1.5.0",
      "_view_name": "HTMLView",
      "description": "",
      "description_tooltip": null,
      "layout": "IPY_MODEL_bce9727941234f5798794d913bae4d11",
      "placeholder": "​",
      "style": "IPY_MODEL_c4340dcfdf1a403f907af98137f7679c",
      "value": "Generate report structure: 100%"
     }
    },
    "126e1d768c574d2eba5cfbea7cb71c3b": {
     "model_module": "@jupyter-widgets/controls",
     "model_module_version": "1.5.0",
     "model_name": "HTMLModel",
     "state": {
      "_dom_classes": [],
      "_model_module": "@jupyter-widgets/controls",
      "_model_module_version": "1.5.0",
      "_model_name": "HTMLModel",
      "_view_count": null,
      "_view_module": "@jupyter-widgets/controls",
      "_view_module_version": "1.5.0",
      "_view_name": "HTMLView",
      "description": "",
      "description_tooltip": null,
      "layout": "IPY_MODEL_1e553d25e9a54114b3e9cf3fec0620c8",
      "placeholder": "​",
      "style": "IPY_MODEL_f7e045e7623f4e4ab1f6110050e6fe89",
      "value": "Done! Use &#x27;show&#x27; commands to display/save.   "
     }
    },
    "16e780ff30f94a5699e67ed1b25fb142": {
     "model_module": "@jupyter-widgets/controls",
     "model_module_version": "1.5.0",
     "model_name": "DescriptionStyleModel",
     "state": {
      "_model_module": "@jupyter-widgets/controls",
      "_model_module_version": "1.5.0",
      "_model_name": "DescriptionStyleModel",
      "_view_count": null,
      "_view_module": "@jupyter-widgets/base",
      "_view_module_version": "1.2.0",
      "_view_name": "StyleView",
      "description_width": ""
     }
    },
    "170a0f5245fa469f858633d70f331e67": {
     "model_module": "@jupyter-widgets/base",
     "model_module_version": "1.2.0",
     "model_name": "LayoutModel",
     "state": {
      "_model_module": "@jupyter-widgets/base",
      "_model_module_version": "1.2.0",
      "_model_name": "LayoutModel",
      "_view_count": null,
      "_view_module": "@jupyter-widgets/base",
      "_view_module_version": "1.2.0",
      "_view_name": "LayoutView",
      "align_content": null,
      "align_items": null,
      "align_self": null,
      "border": null,
      "bottom": null,
      "display": null,
      "flex": null,
      "flex_flow": null,
      "grid_area": null,
      "grid_auto_columns": null,
      "grid_auto_flow": null,
      "grid_auto_rows": null,
      "grid_column": null,
      "grid_gap": null,
      "grid_row": null,
      "grid_template_areas": null,
      "grid_template_columns": null,
      "grid_template_rows": null,
      "height": null,
      "justify_content": null,
      "justify_items": null,
      "left": null,
      "margin": null,
      "max_height": null,
      "max_width": null,
      "min_height": null,
      "min_width": null,
      "object_fit": null,
      "object_position": null,
      "order": null,
      "overflow": null,
      "overflow_x": null,
      "overflow_y": null,
      "padding": null,
      "right": null,
      "top": null,
      "visibility": null,
      "width": null
     }
    },
    "1b95a332aa0e4c818201fd0482008fcd": {
     "model_module": "@jupyter-widgets/controls",
     "model_module_version": "1.5.0",
     "model_name": "ProgressStyleModel",
     "state": {
      "_model_module": "@jupyter-widgets/controls",
      "_model_module_version": "1.5.0",
      "_model_name": "ProgressStyleModel",
      "_view_count": null,
      "_view_module": "@jupyter-widgets/base",
      "_view_module_version": "1.2.0",
      "_view_name": "StyleView",
      "bar_color": null,
      "description_width": ""
     }
    },
    "1cd283f12f0141b999bd14f519a9fb7a": {
     "model_module": "@jupyter-widgets/controls",
     "model_module_version": "1.5.0",
     "model_name": "HBoxModel",
     "state": {
      "_dom_classes": [],
      "_model_module": "@jupyter-widgets/controls",
      "_model_module_version": "1.5.0",
      "_model_name": "HBoxModel",
      "_view_count": null,
      "_view_module": "@jupyter-widgets/controls",
      "_view_module_version": "1.5.0",
      "_view_name": "HBoxView",
      "box_style": "",
      "children": [
       "IPY_MODEL_123438de41fb4c8cab78a580d35800b0",
       "IPY_MODEL_f355b8af30db458995772b260833ec17",
       "IPY_MODEL_d3179c6f5aac434d87208380784c356a"
      ],
      "layout": "IPY_MODEL_bb69d86ff58e41a8955ff90d029f6bd3"
     }
    },
    "1e553d25e9a54114b3e9cf3fec0620c8": {
     "model_module": "@jupyter-widgets/base",
     "model_module_version": "1.2.0",
     "model_name": "LayoutModel",
     "state": {
      "_model_module": "@jupyter-widgets/base",
      "_model_module_version": "1.2.0",
      "_model_name": "LayoutModel",
      "_view_count": null,
      "_view_module": "@jupyter-widgets/base",
      "_view_module_version": "1.2.0",
      "_view_name": "LayoutView",
      "align_content": null,
      "align_items": null,
      "align_self": null,
      "border": null,
      "bottom": null,
      "display": null,
      "flex": null,
      "flex_flow": null,
      "grid_area": null,
      "grid_auto_columns": null,
      "grid_auto_flow": null,
      "grid_auto_rows": null,
      "grid_column": null,
      "grid_gap": null,
      "grid_row": null,
      "grid_template_areas": null,
      "grid_template_columns": null,
      "grid_template_rows": null,
      "height": null,
      "justify_content": null,
      "justify_items": null,
      "left": null,
      "margin": null,
      "max_height": null,
      "max_width": null,
      "min_height": null,
      "min_width": null,
      "object_fit": null,
      "object_position": null,
      "order": null,
      "overflow": null,
      "overflow_x": null,
      "overflow_y": null,
      "padding": null,
      "right": null,
      "top": null,
      "visibility": null,
      "width": null
     }
    },
    "20377747b2dc4f0594b48554250faa17": {
     "model_module": "@jupyter-widgets/controls",
     "model_module_version": "1.5.0",
     "model_name": "FloatProgressModel",
     "state": {
      "_dom_classes": [],
      "_model_module": "@jupyter-widgets/controls",
      "_model_module_version": "1.5.0",
      "_model_name": "FloatProgressModel",
      "_view_count": null,
      "_view_module": "@jupyter-widgets/controls",
      "_view_module_version": "1.5.0",
      "_view_name": "ProgressView",
      "bar_style": "success",
      "description": "",
      "description_tooltip": null,
      "layout": "IPY_MODEL_3ac321e60644482fb4c26a17f7952363",
      "max": 1,
      "min": 0,
      "orientation": "horizontal",
      "style": "IPY_MODEL_96e26c17ffd34735bb82bdb7e4f86c1a",
      "value": 1
     }
    },
    "231400ef9e6f4123ac1f3ce2a629d924": {
     "model_module": "@jupyter-widgets/controls",
     "model_module_version": "1.5.0",
     "model_name": "ProgressStyleModel",
     "state": {
      "_model_module": "@jupyter-widgets/controls",
      "_model_module_version": "1.5.0",
      "_model_name": "ProgressStyleModel",
      "_view_count": null,
      "_view_module": "@jupyter-widgets/base",
      "_view_module_version": "1.2.0",
      "_view_name": "StyleView",
      "bar_color": null,
      "description_width": ""
     }
    },
    "2ea93a66a8ab4b79b46453329f768426": {
     "model_module": "@jupyter-widgets/controls",
     "model_module_version": "1.5.0",
     "model_name": "FloatProgressModel",
     "state": {
      "_dom_classes": [],
      "_model_module": "@jupyter-widgets/controls",
      "_model_module_version": "1.5.0",
      "_model_name": "FloatProgressModel",
      "_view_count": null,
      "_view_module": "@jupyter-widgets/controls",
      "_view_module_version": "1.5.0",
      "_view_name": "ProgressView",
      "bar_style": "success",
      "description": "",
      "description_tooltip": null,
      "layout": "IPY_MODEL_ee095dc1ed90448c942ab509d70360e0",
      "max": 1,
      "min": 0,
      "orientation": "horizontal",
      "style": "IPY_MODEL_51ce25ce2663459c8566afca3d9603f6",
      "value": 1
     }
    },
    "3ac321e60644482fb4c26a17f7952363": {
     "model_module": "@jupyter-widgets/base",
     "model_module_version": "1.2.0",
     "model_name": "LayoutModel",
     "state": {
      "_model_module": "@jupyter-widgets/base",
      "_model_module_version": "1.2.0",
      "_model_name": "LayoutModel",
      "_view_count": null,
      "_view_module": "@jupyter-widgets/base",
      "_view_module_version": "1.2.0",
      "_view_name": "LayoutView",
      "align_content": null,
      "align_items": null,
      "align_self": null,
      "border": null,
      "bottom": null,
      "display": null,
      "flex": "2",
      "flex_flow": null,
      "grid_area": null,
      "grid_auto_columns": null,
      "grid_auto_flow": null,
      "grid_auto_rows": null,
      "grid_column": null,
      "grid_gap": null,
      "grid_row": null,
      "grid_template_areas": null,
      "grid_template_columns": null,
      "grid_template_rows": null,
      "height": null,
      "justify_content": null,
      "justify_items": null,
      "left": null,
      "margin": null,
      "max_height": null,
      "max_width": null,
      "min_height": null,
      "min_width": null,
      "object_fit": null,
      "object_position": null,
      "order": null,
      "overflow": null,
      "overflow_x": null,
      "overflow_y": null,
      "padding": null,
      "right": null,
      "top": null,
      "visibility": null,
      "width": null
     }
    },
    "4af7284dfe1549bf8302fa8f460ed108": {
     "model_module": "@jupyter-widgets/base",
     "model_module_version": "1.2.0",
     "model_name": "LayoutModel",
     "state": {
      "_model_module": "@jupyter-widgets/base",
      "_model_module_version": "1.2.0",
      "_model_name": "LayoutModel",
      "_view_count": null,
      "_view_module": "@jupyter-widgets/base",
      "_view_module_version": "1.2.0",
      "_view_name": "LayoutView",
      "align_content": null,
      "align_items": null,
      "align_self": null,
      "border": null,
      "bottom": null,
      "display": null,
      "flex": null,
      "flex_flow": null,
      "grid_area": null,
      "grid_auto_columns": null,
      "grid_auto_flow": null,
      "grid_auto_rows": null,
      "grid_column": null,
      "grid_gap": null,
      "grid_row": null,
      "grid_template_areas": null,
      "grid_template_columns": null,
      "grid_template_rows": null,
      "height": null,
      "justify_content": null,
      "justify_items": null,
      "left": null,
      "margin": null,
      "max_height": null,
      "max_width": null,
      "min_height": null,
      "min_width": null,
      "object_fit": null,
      "object_position": null,
      "order": null,
      "overflow": null,
      "overflow_x": null,
      "overflow_y": null,
      "padding": null,
      "right": null,
      "top": null,
      "visibility": null,
      "width": null
     }
    },
    "4bd90c6dbc14417494a0f9e34a1198d2": {
     "model_module": "@jupyter-widgets/base",
     "model_module_version": "1.2.0",
     "model_name": "LayoutModel",
     "state": {
      "_model_module": "@jupyter-widgets/base",
      "_model_module_version": "1.2.0",
      "_model_name": "LayoutModel",
      "_view_count": null,
      "_view_module": "@jupyter-widgets/base",
      "_view_module_version": "1.2.0",
      "_view_name": "LayoutView",
      "align_content": null,
      "align_items": null,
      "align_self": null,
      "border": null,
      "bottom": null,
      "display": null,
      "flex": null,
      "flex_flow": null,
      "grid_area": null,
      "grid_auto_columns": null,
      "grid_auto_flow": null,
      "grid_auto_rows": null,
      "grid_column": null,
      "grid_gap": null,
      "grid_row": null,
      "grid_template_areas": null,
      "grid_template_columns": null,
      "grid_template_rows": null,
      "height": null,
      "justify_content": null,
      "justify_items": null,
      "left": null,
      "margin": null,
      "max_height": null,
      "max_width": null,
      "min_height": null,
      "min_width": null,
      "object_fit": null,
      "object_position": null,
      "order": null,
      "overflow": null,
      "overflow_x": null,
      "overflow_y": null,
      "padding": null,
      "right": null,
      "top": null,
      "visibility": null,
      "width": null
     }
    },
    "51ce25ce2663459c8566afca3d9603f6": {
     "model_module": "@jupyter-widgets/controls",
     "model_module_version": "1.5.0",
     "model_name": "ProgressStyleModel",
     "state": {
      "_model_module": "@jupyter-widgets/controls",
      "_model_module_version": "1.5.0",
      "_model_name": "ProgressStyleModel",
      "_view_count": null,
      "_view_module": "@jupyter-widgets/base",
      "_view_module_version": "1.2.0",
      "_view_name": "StyleView",
      "bar_color": null,
      "description_width": ""
     }
    },
    "5afb18c94ac24a34930b2081111666d3": {
     "model_module": "@jupyter-widgets/controls",
     "model_module_version": "1.5.0",
     "model_name": "HTMLModel",
     "state": {
      "_dom_classes": [],
      "_model_module": "@jupyter-widgets/controls",
      "_model_module_version": "1.5.0",
      "_model_name": "HTMLModel",
      "_view_count": null,
      "_view_module": "@jupyter-widgets/controls",
      "_view_module_version": "1.5.0",
      "_view_name": "HTMLView",
      "description": "",
      "description_tooltip": null,
      "layout": "IPY_MODEL_ea7f9601889547d88adbc798bfd1a148",
      "placeholder": "​",
      "style": "IPY_MODEL_f5f399f2e4284724a17645c31425123e",
      "value": "Render HTML: 100%"
     }
    },
    "60b66662fc074763b4410c1b1c526e82": {
     "model_module": "@jupyter-widgets/controls",
     "model_module_version": "1.5.0",
     "model_name": "HTMLModel",
     "state": {
      "_dom_classes": [],
      "_model_module": "@jupyter-widgets/controls",
      "_model_module_version": "1.5.0",
      "_model_name": "HTMLModel",
      "_view_count": null,
      "_view_module": "@jupyter-widgets/controls",
      "_view_module_version": "1.5.0",
      "_view_name": "HTMLView",
      "description": "",
      "description_tooltip": null,
      "layout": "IPY_MODEL_4bd90c6dbc14417494a0f9e34a1198d2",
      "placeholder": "​",
      "style": "IPY_MODEL_97f179cbf0d3403c8da3d1c30e7a64fb",
      "value": " [100%]   00:01 -&gt; (00:00 left)"
     }
    },
    "68232bea53a344828695b94a5a50114a": {
     "model_module": "@jupyter-widgets/base",
     "model_module_version": "1.2.0",
     "model_name": "LayoutModel",
     "state": {
      "_model_module": "@jupyter-widgets/base",
      "_model_module_version": "1.2.0",
      "_model_name": "LayoutModel",
      "_view_count": null,
      "_view_module": "@jupyter-widgets/base",
      "_view_module_version": "1.2.0",
      "_view_name": "LayoutView",
      "align_content": null,
      "align_items": null,
      "align_self": null,
      "border": null,
      "bottom": null,
      "display": null,
      "flex": null,
      "flex_flow": null,
      "grid_area": null,
      "grid_auto_columns": null,
      "grid_auto_flow": null,
      "grid_auto_rows": null,
      "grid_column": null,
      "grid_gap": null,
      "grid_row": null,
      "grid_template_areas": null,
      "grid_template_columns": null,
      "grid_template_rows": null,
      "height": null,
      "justify_content": null,
      "justify_items": null,
      "left": null,
      "margin": null,
      "max_height": null,
      "max_width": null,
      "min_height": null,
      "min_width": null,
      "object_fit": null,
      "object_position": null,
      "order": null,
      "overflow": null,
      "overflow_x": null,
      "overflow_y": null,
      "padding": null,
      "right": null,
      "top": null,
      "visibility": null,
      "width": null
     }
    },
    "6b96bcfd67fe4b00973f40357e3054e2": {
     "model_module": "@jupyter-widgets/controls",
     "model_module_version": "1.5.0",
     "model_name": "FloatProgressModel",
     "state": {
      "_dom_classes": [],
      "_model_module": "@jupyter-widgets/controls",
      "_model_module_version": "1.5.0",
      "_model_name": "FloatProgressModel",
      "_view_count": null,
      "_view_module": "@jupyter-widgets/controls",
      "_view_module_version": "1.5.0",
      "_view_name": "ProgressView",
      "bar_style": "success",
      "description": "",
      "description_tooltip": null,
      "layout": "IPY_MODEL_7d087a2746314adea74b7499d55fec5f",
      "max": 1,
      "min": 0,
      "orientation": "horizontal",
      "style": "IPY_MODEL_99989400d87d4d268c0006b9f1d239b1",
      "value": 1
     }
    },
    "73614c95d6224bd899f977e16f81325a": {
     "model_module": "@jupyter-widgets/controls",
     "model_module_version": "1.5.0",
     "model_name": "DescriptionStyleModel",
     "state": {
      "_model_module": "@jupyter-widgets/controls",
      "_model_module_version": "1.5.0",
      "_model_name": "DescriptionStyleModel",
      "_view_count": null,
      "_view_module": "@jupyter-widgets/base",
      "_view_module_version": "1.2.0",
      "_view_name": "StyleView",
      "description_width": ""
     }
    },
    "742dbaa1a857431d8f608c90599e0c6e": {
     "model_module": "@jupyter-widgets/controls",
     "model_module_version": "1.5.0",
     "model_name": "HBoxModel",
     "state": {
      "_dom_classes": [],
      "_model_module": "@jupyter-widgets/controls",
      "_model_module_version": "1.5.0",
      "_model_name": "HBoxModel",
      "_view_count": null,
      "_view_module": "@jupyter-widgets/controls",
      "_view_module_version": "1.5.0",
      "_view_name": "HBoxView",
      "box_style": "",
      "children": [
       "IPY_MODEL_cf87a03a588c4e8e9aa8b355174d18c6",
       "IPY_MODEL_6b96bcfd67fe4b00973f40357e3054e2",
       "IPY_MODEL_95b8cc7d0e8f473792ebf457b554d106"
      ],
      "layout": "IPY_MODEL_cbf8b79162304b3d837ca865f2f52d01"
     }
    },
    "74adc9ec63404c7e865523e18e128448": {
     "model_module": "@jupyter-widgets/controls",
     "model_module_version": "1.5.0",
     "model_name": "HTMLModel",
     "state": {
      "_dom_classes": [],
      "_model_module": "@jupyter-widgets/controls",
      "_model_module_version": "1.5.0",
      "_model_name": "HTMLModel",
      "_view_count": null,
      "_view_module": "@jupyter-widgets/controls",
      "_view_module_version": "1.5.0",
      "_view_name": "HTMLView",
      "description": "",
      "description_tooltip": null,
      "layout": "IPY_MODEL_68232bea53a344828695b94a5a50114a",
      "placeholder": "​",
      "style": "IPY_MODEL_dc846830917f4f25abf73396190ed08b",
      "value": " 1/1 [00:00&lt;00:00,  1.29it/s]"
     }
    },
    "7716143e68e74221bb377cfd204b6173": {
     "model_module": "@jupyter-widgets/base",
     "model_module_version": "1.2.0",
     "model_name": "LayoutModel",
     "state": {
      "_model_module": "@jupyter-widgets/base",
      "_model_module_version": "1.2.0",
      "_model_name": "LayoutModel",
      "_view_count": null,
      "_view_module": "@jupyter-widgets/base",
      "_view_module_version": "1.2.0",
      "_view_name": "LayoutView",
      "align_content": null,
      "align_items": null,
      "align_self": null,
      "border": null,
      "bottom": null,
      "display": null,
      "flex": null,
      "flex_flow": null,
      "grid_area": null,
      "grid_auto_columns": null,
      "grid_auto_flow": null,
      "grid_auto_rows": null,
      "grid_column": null,
      "grid_gap": null,
      "grid_row": null,
      "grid_template_areas": null,
      "grid_template_columns": null,
      "grid_template_rows": null,
      "height": null,
      "justify_content": null,
      "justify_items": null,
      "left": null,
      "margin": null,
      "max_height": null,
      "max_width": null,
      "min_height": null,
      "min_width": null,
      "object_fit": null,
      "object_position": null,
      "order": null,
      "overflow": null,
      "overflow_x": null,
      "overflow_y": null,
      "padding": null,
      "right": null,
      "top": null,
      "visibility": null,
      "width": null
     }
    },
    "7d087a2746314adea74b7499d55fec5f": {
     "model_module": "@jupyter-widgets/base",
     "model_module_version": "1.2.0",
     "model_name": "LayoutModel",
     "state": {
      "_model_module": "@jupyter-widgets/base",
      "_model_module_version": "1.2.0",
      "_model_name": "LayoutModel",
      "_view_count": null,
      "_view_module": "@jupyter-widgets/base",
      "_view_module_version": "1.2.0",
      "_view_name": "LayoutView",
      "align_content": null,
      "align_items": null,
      "align_self": null,
      "border": null,
      "bottom": null,
      "display": null,
      "flex": null,
      "flex_flow": null,
      "grid_area": null,
      "grid_auto_columns": null,
      "grid_auto_flow": null,
      "grid_auto_rows": null,
      "grid_column": null,
      "grid_gap": null,
      "grid_row": null,
      "grid_template_areas": null,
      "grid_template_columns": null,
      "grid_template_rows": null,
      "height": null,
      "justify_content": null,
      "justify_items": null,
      "left": null,
      "margin": null,
      "max_height": null,
      "max_width": null,
      "min_height": null,
      "min_width": null,
      "object_fit": null,
      "object_position": null,
      "order": null,
      "overflow": null,
      "overflow_x": null,
      "overflow_y": null,
      "padding": null,
      "right": null,
      "top": null,
      "visibility": null,
      "width": null
     }
    },
    "83f413bc19ea40f9afb5824b8ea2375f": {
     "model_module": "@jupyter-widgets/controls",
     "model_module_version": "1.5.0",
     "model_name": "DescriptionStyleModel",
     "state": {
      "_model_module": "@jupyter-widgets/controls",
      "_model_module_version": "1.5.0",
      "_model_name": "DescriptionStyleModel",
      "_view_count": null,
      "_view_module": "@jupyter-widgets/base",
      "_view_module_version": "1.2.0",
      "_view_name": "StyleView",
      "description_width": ""
     }
    },
    "92a6c55631be4b37b596b1280e46d142": {
     "model_module": "@jupyter-widgets/base",
     "model_module_version": "1.2.0",
     "model_name": "LayoutModel",
     "state": {
      "_model_module": "@jupyter-widgets/base",
      "_model_module_version": "1.2.0",
      "_model_name": "LayoutModel",
      "_view_count": null,
      "_view_module": "@jupyter-widgets/base",
      "_view_module_version": "1.2.0",
      "_view_name": "LayoutView",
      "align_content": null,
      "align_items": null,
      "align_self": null,
      "border": null,
      "bottom": null,
      "display": null,
      "flex": null,
      "flex_flow": null,
      "grid_area": null,
      "grid_auto_columns": null,
      "grid_auto_flow": null,
      "grid_auto_rows": null,
      "grid_column": null,
      "grid_gap": null,
      "grid_row": null,
      "grid_template_areas": null,
      "grid_template_columns": null,
      "grid_template_rows": null,
      "height": null,
      "justify_content": null,
      "justify_items": null,
      "left": null,
      "margin": null,
      "max_height": null,
      "max_width": null,
      "min_height": null,
      "min_width": null,
      "object_fit": null,
      "object_position": null,
      "order": null,
      "overflow": null,
      "overflow_x": null,
      "overflow_y": null,
      "padding": null,
      "right": null,
      "top": null,
      "visibility": null,
      "width": null
     }
    },
    "95b8cc7d0e8f473792ebf457b554d106": {
     "model_module": "@jupyter-widgets/controls",
     "model_module_version": "1.5.0",
     "model_name": "HTMLModel",
     "state": {
      "_dom_classes": [],
      "_model_module": "@jupyter-widgets/controls",
      "_model_module_version": "1.5.0",
      "_model_name": "HTMLModel",
      "_view_count": null,
      "_view_module": "@jupyter-widgets/controls",
      "_view_module_version": "1.5.0",
      "_view_name": "HTMLView",
      "description": "",
      "description_tooltip": null,
      "layout": "IPY_MODEL_dfe21ee0245d42ca9656f3fb85df5fe3",
      "placeholder": "​",
      "style": "IPY_MODEL_c126072e33e74071bf927ecab412ff2b",
      "value": " 1/1 [00:00&lt;00:00, 21.93it/s]"
     }
    },
    "96e26c17ffd34735bb82bdb7e4f86c1a": {
     "model_module": "@jupyter-widgets/controls",
     "model_module_version": "1.5.0",
     "model_name": "ProgressStyleModel",
     "state": {
      "_model_module": "@jupyter-widgets/controls",
      "_model_module_version": "1.5.0",
      "_model_name": "ProgressStyleModel",
      "_view_count": null,
      "_view_module": "@jupyter-widgets/base",
      "_view_module_version": "1.2.0",
      "_view_name": "StyleView",
      "bar_color": null,
      "description_width": ""
     }
    },
    "97f179cbf0d3403c8da3d1c30e7a64fb": {
     "model_module": "@jupyter-widgets/controls",
     "model_module_version": "1.5.0",
     "model_name": "DescriptionStyleModel",
     "state": {
      "_model_module": "@jupyter-widgets/controls",
      "_model_module_version": "1.5.0",
      "_model_name": "DescriptionStyleModel",
      "_view_count": null,
      "_view_module": "@jupyter-widgets/base",
      "_view_module_version": "1.2.0",
      "_view_name": "StyleView",
      "description_width": ""
     }
    },
    "99989400d87d4d268c0006b9f1d239b1": {
     "model_module": "@jupyter-widgets/controls",
     "model_module_version": "1.5.0",
     "model_name": "ProgressStyleModel",
     "state": {
      "_model_module": "@jupyter-widgets/controls",
      "_model_module_version": "1.5.0",
      "_model_name": "ProgressStyleModel",
      "_view_count": null,
      "_view_module": "@jupyter-widgets/base",
      "_view_module_version": "1.2.0",
      "_view_name": "StyleView",
      "bar_color": null,
      "description_width": ""
     }
    },
    "b1b64ef7f8164941990c5def79cab5fc": {
     "model_module": "@jupyter-widgets/controls",
     "model_module_version": "1.5.0",
     "model_name": "HBoxModel",
     "state": {
      "_dom_classes": [],
      "_model_module": "@jupyter-widgets/controls",
      "_model_module_version": "1.5.0",
      "_model_name": "HBoxModel",
      "_view_count": null,
      "_view_module": "@jupyter-widgets/controls",
      "_view_module_version": "1.5.0",
      "_view_name": "HBoxView",
      "box_style": "",
      "children": [
       "IPY_MODEL_fdd4a72180b44a5daec9da9b5a3b4946",
       "IPY_MODEL_10f4bb6551824db692a74d3e06088e69",
       "IPY_MODEL_b75611ac780341b7b1594f012151990c"
      ],
      "layout": "IPY_MODEL_0bed8b4385684b98b5bbd1cae4029752"
     }
    },
    "b38d40db810547e3a83d14ce5608aa7d": {
     "model_module": "@jupyter-widgets/controls",
     "model_module_version": "1.5.0",
     "model_name": "DescriptionStyleModel",
     "state": {
      "_model_module": "@jupyter-widgets/controls",
      "_model_module_version": "1.5.0",
      "_model_name": "DescriptionStyleModel",
      "_view_count": null,
      "_view_module": "@jupyter-widgets/base",
      "_view_module_version": "1.2.0",
      "_view_name": "StyleView",
      "description_width": ""
     }
    },
    "b6061982905642eb8a7d990c0829497e": {
     "model_module": "@jupyter-widgets/base",
     "model_module_version": "1.2.0",
     "model_name": "LayoutModel",
     "state": {
      "_model_module": "@jupyter-widgets/base",
      "_model_module_version": "1.2.0",
      "_model_name": "LayoutModel",
      "_view_count": null,
      "_view_module": "@jupyter-widgets/base",
      "_view_module_version": "1.2.0",
      "_view_name": "LayoutView",
      "align_content": null,
      "align_items": null,
      "align_self": null,
      "border": null,
      "bottom": null,
      "display": null,
      "flex": null,
      "flex_flow": null,
      "grid_area": null,
      "grid_auto_columns": null,
      "grid_auto_flow": null,
      "grid_auto_rows": null,
      "grid_column": null,
      "grid_gap": null,
      "grid_row": null,
      "grid_template_areas": null,
      "grid_template_columns": null,
      "grid_template_rows": null,
      "height": null,
      "justify_content": null,
      "justify_items": null,
      "left": null,
      "margin": null,
      "max_height": null,
      "max_width": null,
      "min_height": null,
      "min_width": null,
      "object_fit": null,
      "object_position": null,
      "order": null,
      "overflow": null,
      "overflow_x": null,
      "overflow_y": null,
      "padding": null,
      "right": null,
      "top": null,
      "visibility": null,
      "width": null
     }
    },
    "b75611ac780341b7b1594f012151990c": {
     "model_module": "@jupyter-widgets/controls",
     "model_module_version": "1.5.0",
     "model_name": "HTMLModel",
     "state": {
      "_dom_classes": [],
      "_model_module": "@jupyter-widgets/controls",
      "_model_module_version": "1.5.0",
      "_model_name": "HTMLModel",
      "_view_count": null,
      "_view_module": "@jupyter-widgets/controls",
      "_view_module_version": "1.5.0",
      "_view_name": "HTMLView",
      "description": "",
      "description_tooltip": null,
      "layout": "IPY_MODEL_0223ecb00835482cb9baf150649a733e",
      "placeholder": "​",
      "style": "IPY_MODEL_b38d40db810547e3a83d14ce5608aa7d",
      "value": " 20/20 [00:01&lt;00:00, 11.26it/s, Completed]"
     }
    },
    "bb69d86ff58e41a8955ff90d029f6bd3": {
     "model_module": "@jupyter-widgets/base",
     "model_module_version": "1.2.0",
     "model_name": "LayoutModel",
     "state": {
      "_model_module": "@jupyter-widgets/base",
      "_model_module_version": "1.2.0",
      "_model_name": "LayoutModel",
      "_view_count": null,
      "_view_module": "@jupyter-widgets/base",
      "_view_module_version": "1.2.0",
      "_view_name": "LayoutView",
      "align_content": null,
      "align_items": null,
      "align_self": null,
      "border": null,
      "bottom": null,
      "display": null,
      "flex": null,
      "flex_flow": null,
      "grid_area": null,
      "grid_auto_columns": null,
      "grid_auto_flow": null,
      "grid_auto_rows": null,
      "grid_column": null,
      "grid_gap": null,
      "grid_row": null,
      "grid_template_areas": null,
      "grid_template_columns": null,
      "grid_template_rows": null,
      "height": null,
      "justify_content": null,
      "justify_items": null,
      "left": null,
      "margin": null,
      "max_height": null,
      "max_width": null,
      "min_height": null,
      "min_width": null,
      "object_fit": null,
      "object_position": null,
      "order": null,
      "overflow": null,
      "overflow_x": null,
      "overflow_y": null,
      "padding": null,
      "right": null,
      "top": null,
      "visibility": null,
      "width": null
     }
    },
    "bce9727941234f5798794d913bae4d11": {
     "model_module": "@jupyter-widgets/base",
     "model_module_version": "1.2.0",
     "model_name": "LayoutModel",
     "state": {
      "_model_module": "@jupyter-widgets/base",
      "_model_module_version": "1.2.0",
      "_model_name": "LayoutModel",
      "_view_count": null,
      "_view_module": "@jupyter-widgets/base",
      "_view_module_version": "1.2.0",
      "_view_name": "LayoutView",
      "align_content": null,
      "align_items": null,
      "align_self": null,
      "border": null,
      "bottom": null,
      "display": null,
      "flex": null,
      "flex_flow": null,
      "grid_area": null,
      "grid_auto_columns": null,
      "grid_auto_flow": null,
      "grid_auto_rows": null,
      "grid_column": null,
      "grid_gap": null,
      "grid_row": null,
      "grid_template_areas": null,
      "grid_template_columns": null,
      "grid_template_rows": null,
      "height": null,
      "justify_content": null,
      "justify_items": null,
      "left": null,
      "margin": null,
      "max_height": null,
      "max_width": null,
      "min_height": null,
      "min_width": null,
      "object_fit": null,
      "object_position": null,
      "order": null,
      "overflow": null,
      "overflow_x": null,
      "overflow_y": null,
      "padding": null,
      "right": null,
      "top": null,
      "visibility": null,
      "width": null
     }
    },
    "be0edaf15fee4272ba854facfd3b76a3": {
     "model_module": "@jupyter-widgets/base",
     "model_module_version": "1.2.0",
     "model_name": "LayoutModel",
     "state": {
      "_model_module": "@jupyter-widgets/base",
      "_model_module_version": "1.2.0",
      "_model_name": "LayoutModel",
      "_view_count": null,
      "_view_module": "@jupyter-widgets/base",
      "_view_module_version": "1.2.0",
      "_view_name": "LayoutView",
      "align_content": null,
      "align_items": null,
      "align_self": null,
      "border": null,
      "bottom": null,
      "display": "inline-flex",
      "flex": null,
      "flex_flow": "row wrap",
      "grid_area": null,
      "grid_auto_columns": null,
      "grid_auto_flow": null,
      "grid_auto_rows": null,
      "grid_column": null,
      "grid_gap": null,
      "grid_row": null,
      "grid_template_areas": null,
      "grid_template_columns": null,
      "grid_template_rows": null,
      "height": null,
      "justify_content": null,
      "justify_items": null,
      "left": null,
      "margin": null,
      "max_height": null,
      "max_width": null,
      "min_height": null,
      "min_width": null,
      "object_fit": null,
      "object_position": null,
      "order": null,
      "overflow": null,
      "overflow_x": null,
      "overflow_y": null,
      "padding": null,
      "right": null,
      "top": null,
      "visibility": null,
      "width": "100%"
     }
    },
    "c126072e33e74071bf927ecab412ff2b": {
     "model_module": "@jupyter-widgets/controls",
     "model_module_version": "1.5.0",
     "model_name": "DescriptionStyleModel",
     "state": {
      "_model_module": "@jupyter-widgets/controls",
      "_model_module_version": "1.5.0",
      "_model_name": "DescriptionStyleModel",
      "_view_count": null,
      "_view_module": "@jupyter-widgets/base",
      "_view_module_version": "1.2.0",
      "_view_name": "StyleView",
      "description_width": ""
     }
    },
    "c4340dcfdf1a403f907af98137f7679c": {
     "model_module": "@jupyter-widgets/controls",
     "model_module_version": "1.5.0",
     "model_name": "DescriptionStyleModel",
     "state": {
      "_model_module": "@jupyter-widgets/controls",
      "_model_module_version": "1.5.0",
      "_model_name": "DescriptionStyleModel",
      "_view_count": null,
      "_view_module": "@jupyter-widgets/base",
      "_view_module_version": "1.2.0",
      "_view_name": "StyleView",
      "description_width": ""
     }
    },
    "cbf8b79162304b3d837ca865f2f52d01": {
     "model_module": "@jupyter-widgets/base",
     "model_module_version": "1.2.0",
     "model_name": "LayoutModel",
     "state": {
      "_model_module": "@jupyter-widgets/base",
      "_model_module_version": "1.2.0",
      "_model_name": "LayoutModel",
      "_view_count": null,
      "_view_module": "@jupyter-widgets/base",
      "_view_module_version": "1.2.0",
      "_view_name": "LayoutView",
      "align_content": null,
      "align_items": null,
      "align_self": null,
      "border": null,
      "bottom": null,
      "display": null,
      "flex": null,
      "flex_flow": null,
      "grid_area": null,
      "grid_auto_columns": null,
      "grid_auto_flow": null,
      "grid_auto_rows": null,
      "grid_column": null,
      "grid_gap": null,
      "grid_row": null,
      "grid_template_areas": null,
      "grid_template_columns": null,
      "grid_template_rows": null,
      "height": null,
      "justify_content": null,
      "justify_items": null,
      "left": null,
      "margin": null,
      "max_height": null,
      "max_width": null,
      "min_height": null,
      "min_width": null,
      "object_fit": null,
      "object_position": null,
      "order": null,
      "overflow": null,
      "overflow_x": null,
      "overflow_y": null,
      "padding": null,
      "right": null,
      "top": null,
      "visibility": null,
      "width": null
     }
    },
    "cf87a03a588c4e8e9aa8b355174d18c6": {
     "model_module": "@jupyter-widgets/controls",
     "model_module_version": "1.5.0",
     "model_name": "HTMLModel",
     "state": {
      "_dom_classes": [],
      "_model_module": "@jupyter-widgets/controls",
      "_model_module_version": "1.5.0",
      "_model_name": "HTMLModel",
      "_view_count": null,
      "_view_module": "@jupyter-widgets/controls",
      "_view_module_version": "1.5.0",
      "_view_name": "HTMLView",
      "description": "",
      "description_tooltip": null,
      "layout": "IPY_MODEL_4af7284dfe1549bf8302fa8f460ed108",
      "placeholder": "​",
      "style": "IPY_MODEL_16e780ff30f94a5699e67ed1b25fb142",
      "value": "Export report to file: 100%"
     }
    },
    "d3154d25adbb4c16a59c6c1da95b220b": {
     "model_module": "@jupyter-widgets/base",
     "model_module_version": "1.2.0",
     "model_name": "LayoutModel",
     "state": {
      "_model_module": "@jupyter-widgets/base",
      "_model_module_version": "1.2.0",
      "_model_name": "LayoutModel",
      "_view_count": null,
      "_view_module": "@jupyter-widgets/base",
      "_view_module_version": "1.2.0",
      "_view_name": "LayoutView",
      "align_content": null,
      "align_items": null,
      "align_self": null,
      "border": null,
      "bottom": null,
      "display": null,
      "flex": null,
      "flex_flow": null,
      "grid_area": null,
      "grid_auto_columns": null,
      "grid_auto_flow": null,
      "grid_auto_rows": null,
      "grid_column": null,
      "grid_gap": null,
      "grid_row": null,
      "grid_template_areas": null,
      "grid_template_columns": null,
      "grid_template_rows": null,
      "height": null,
      "justify_content": null,
      "justify_items": null,
      "left": null,
      "margin": null,
      "max_height": null,
      "max_width": null,
      "min_height": null,
      "min_width": null,
      "object_fit": null,
      "object_position": null,
      "order": null,
      "overflow": null,
      "overflow_x": null,
      "overflow_y": null,
      "padding": null,
      "right": null,
      "top": null,
      "visibility": null,
      "width": null
     }
    },
    "d3179c6f5aac434d87208380784c356a": {
     "model_module": "@jupyter-widgets/controls",
     "model_module_version": "1.5.0",
     "model_name": "HTMLModel",
     "state": {
      "_dom_classes": [],
      "_model_module": "@jupyter-widgets/controls",
      "_model_module_version": "1.5.0",
      "_model_name": "HTMLModel",
      "_view_count": null,
      "_view_module": "@jupyter-widgets/controls",
      "_view_module_version": "1.5.0",
      "_view_name": "HTMLView",
      "description": "",
      "description_tooltip": null,
      "layout": "IPY_MODEL_7716143e68e74221bb377cfd204b6173",
      "placeholder": "​",
      "style": "IPY_MODEL_73614c95d6224bd899f977e16f81325a",
      "value": " 1/1 [00:13&lt;00:00, 13.53s/it]"
     }
    },
    "dc846830917f4f25abf73396190ed08b": {
     "model_module": "@jupyter-widgets/controls",
     "model_module_version": "1.5.0",
     "model_name": "DescriptionStyleModel",
     "state": {
      "_model_module": "@jupyter-widgets/controls",
      "_model_module_version": "1.5.0",
      "_model_name": "DescriptionStyleModel",
      "_view_count": null,
      "_view_module": "@jupyter-widgets/base",
      "_view_module_version": "1.2.0",
      "_view_name": "StyleView",
      "description_width": ""
     }
    },
    "dfe21ee0245d42ca9656f3fb85df5fe3": {
     "model_module": "@jupyter-widgets/base",
     "model_module_version": "1.2.0",
     "model_name": "LayoutModel",
     "state": {
      "_model_module": "@jupyter-widgets/base",
      "_model_module_version": "1.2.0",
      "_model_name": "LayoutModel",
      "_view_count": null,
      "_view_module": "@jupyter-widgets/base",
      "_view_module_version": "1.2.0",
      "_view_name": "LayoutView",
      "align_content": null,
      "align_items": null,
      "align_self": null,
      "border": null,
      "bottom": null,
      "display": null,
      "flex": null,
      "flex_flow": null,
      "grid_area": null,
      "grid_auto_columns": null,
      "grid_auto_flow": null,
      "grid_auto_rows": null,
      "grid_column": null,
      "grid_gap": null,
      "grid_row": null,
      "grid_template_areas": null,
      "grid_template_columns": null,
      "grid_template_rows": null,
      "height": null,
      "justify_content": null,
      "justify_items": null,
      "left": null,
      "margin": null,
      "max_height": null,
      "max_width": null,
      "min_height": null,
      "min_width": null,
      "object_fit": null,
      "object_position": null,
      "order": null,
      "overflow": null,
      "overflow_x": null,
      "overflow_y": null,
      "padding": null,
      "right": null,
      "top": null,
      "visibility": null,
      "width": null
     }
    },
    "ea7f9601889547d88adbc798bfd1a148": {
     "model_module": "@jupyter-widgets/base",
     "model_module_version": "1.2.0",
     "model_name": "LayoutModel",
     "state": {
      "_model_module": "@jupyter-widgets/base",
      "_model_module_version": "1.2.0",
      "_model_name": "LayoutModel",
      "_view_count": null,
      "_view_module": "@jupyter-widgets/base",
      "_view_module_version": "1.2.0",
      "_view_name": "LayoutView",
      "align_content": null,
      "align_items": null,
      "align_self": null,
      "border": null,
      "bottom": null,
      "display": null,
      "flex": null,
      "flex_flow": null,
      "grid_area": null,
      "grid_auto_columns": null,
      "grid_auto_flow": null,
      "grid_auto_rows": null,
      "grid_column": null,
      "grid_gap": null,
      "grid_row": null,
      "grid_template_areas": null,
      "grid_template_columns": null,
      "grid_template_rows": null,
      "height": null,
      "justify_content": null,
      "justify_items": null,
      "left": null,
      "margin": null,
      "max_height": null,
      "max_width": null,
      "min_height": null,
      "min_width": null,
      "object_fit": null,
      "object_position": null,
      "order": null,
      "overflow": null,
      "overflow_x": null,
      "overflow_y": null,
      "padding": null,
      "right": null,
      "top": null,
      "visibility": null,
      "width": null
     }
    },
    "ee095dc1ed90448c942ab509d70360e0": {
     "model_module": "@jupyter-widgets/base",
     "model_module_version": "1.2.0",
     "model_name": "LayoutModel",
     "state": {
      "_model_module": "@jupyter-widgets/base",
      "_model_module_version": "1.2.0",
      "_model_name": "LayoutModel",
      "_view_count": null,
      "_view_module": "@jupyter-widgets/base",
      "_view_module_version": "1.2.0",
      "_view_name": "LayoutView",
      "align_content": null,
      "align_items": null,
      "align_self": null,
      "border": null,
      "bottom": null,
      "display": null,
      "flex": null,
      "flex_flow": null,
      "grid_area": null,
      "grid_auto_columns": null,
      "grid_auto_flow": null,
      "grid_auto_rows": null,
      "grid_column": null,
      "grid_gap": null,
      "grid_row": null,
      "grid_template_areas": null,
      "grid_template_columns": null,
      "grid_template_rows": null,
      "height": null,
      "justify_content": null,
      "justify_items": null,
      "left": null,
      "margin": null,
      "max_height": null,
      "max_width": null,
      "min_height": null,
      "min_width": null,
      "object_fit": null,
      "object_position": null,
      "order": null,
      "overflow": null,
      "overflow_x": null,
      "overflow_y": null,
      "padding": null,
      "right": null,
      "top": null,
      "visibility": null,
      "width": null
     }
    },
    "ef713de255ba49a18583c904a44d3ff2": {
     "model_module": "@jupyter-widgets/controls",
     "model_module_version": "1.5.0",
     "model_name": "HBoxModel",
     "state": {
      "_dom_classes": [],
      "_model_module": "@jupyter-widgets/controls",
      "_model_module_version": "1.5.0",
      "_model_name": "HBoxModel",
      "_view_count": null,
      "_view_module": "@jupyter-widgets/controls",
      "_view_module_version": "1.5.0",
      "_view_name": "HBoxView",
      "box_style": "",
      "children": [
       "IPY_MODEL_126e1d768c574d2eba5cfbea7cb71c3b",
       "IPY_MODEL_20377747b2dc4f0594b48554250faa17",
       "IPY_MODEL_60b66662fc074763b4410c1b1c526e82"
      ],
      "layout": "IPY_MODEL_be0edaf15fee4272ba854facfd3b76a3"
     }
    },
    "f355b8af30db458995772b260833ec17": {
     "model_module": "@jupyter-widgets/controls",
     "model_module_version": "1.5.0",
     "model_name": "FloatProgressModel",
     "state": {
      "_dom_classes": [],
      "_model_module": "@jupyter-widgets/controls",
      "_model_module_version": "1.5.0",
      "_model_name": "FloatProgressModel",
      "_view_count": null,
      "_view_module": "@jupyter-widgets/controls",
      "_view_module_version": "1.5.0",
      "_view_name": "ProgressView",
      "bar_style": "success",
      "description": "",
      "description_tooltip": null,
      "layout": "IPY_MODEL_b6061982905642eb8a7d990c0829497e",
      "max": 1,
      "min": 0,
      "orientation": "horizontal",
      "style": "IPY_MODEL_231400ef9e6f4123ac1f3ce2a629d924",
      "value": 1
     }
    },
    "f5f399f2e4284724a17645c31425123e": {
     "model_module": "@jupyter-widgets/controls",
     "model_module_version": "1.5.0",
     "model_name": "DescriptionStyleModel",
     "state": {
      "_model_module": "@jupyter-widgets/controls",
      "_model_module_version": "1.5.0",
      "_model_name": "DescriptionStyleModel",
      "_view_count": null,
      "_view_module": "@jupyter-widgets/base",
      "_view_module_version": "1.2.0",
      "_view_name": "StyleView",
      "description_width": ""
     }
    },
    "f7e045e7623f4e4ab1f6110050e6fe89": {
     "model_module": "@jupyter-widgets/controls",
     "model_module_version": "1.5.0",
     "model_name": "DescriptionStyleModel",
     "state": {
      "_model_module": "@jupyter-widgets/controls",
      "_model_module_version": "1.5.0",
      "_model_name": "DescriptionStyleModel",
      "_view_count": null,
      "_view_module": "@jupyter-widgets/base",
      "_view_module_version": "1.2.0",
      "_view_name": "StyleView",
      "description_width": ""
     }
    },
    "fdd4a72180b44a5daec9da9b5a3b4946": {
     "model_module": "@jupyter-widgets/controls",
     "model_module_version": "1.5.0",
     "model_name": "HTMLModel",
     "state": {
      "_dom_classes": [],
      "_model_module": "@jupyter-widgets/controls",
      "_model_module_version": "1.5.0",
      "_model_name": "HTMLModel",
      "_view_count": null,
      "_view_module": "@jupyter-widgets/controls",
      "_view_module_version": "1.5.0",
      "_view_name": "HTMLView",
      "description": "",
      "description_tooltip": null,
      "layout": "IPY_MODEL_170a0f5245fa469f858633d70f331e67",
      "placeholder": "​",
      "style": "IPY_MODEL_83f413bc19ea40f9afb5824b8ea2375f",
      "value": "Summarize dataset: 100%"
     }
    }
   }
  }
 },
 "nbformat": 4,
 "nbformat_minor": 4
}
